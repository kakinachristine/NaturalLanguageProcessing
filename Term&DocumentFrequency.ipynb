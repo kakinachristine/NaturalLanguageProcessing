{
 "cells": [
  {
   "metadata": {},
   "cell_type": "markdown",
   "source": [
    "## 🔢 Term Frequency (TF)\n",
    "\n",
    "**Definition:**\n",
    "Term Frequency measures how frequently a term appears in a single document.\n",
    "\n",
    "**Formula:**\n",
    "`TF(t) = (Number of times term t appears in a document) / (Total number of terms in the document)`\n",
    "\n",
    "**Example:**\n",
    "If the term **\"data\"** appears 3 times in a document with 100 words:\n",
    "`TF(\"data\") = 3 / 100 = 0.03`\n",
    "\n",
    "\n",
    "---\n",
    "\n",
    "## 📄 Document Frequency (DF)\n",
    "\n",
    "**Definition:**\n",
    "Document Frequency is the number of documents that contain the term at least once.\n",
    "\n",
    "**Formula:**\n",
    "`DF(t) = Number of documents containing term t`\n",
    "\n",
    "**Example:**\n",
    "If the term **\"machine\"** appears in 5 out of 10 documents:\n",
    "`DF(\"machine\") = 5`\n",
    "\n"
   ],
   "id": "8b5069104e3978e0"
  },
  {
   "cell_type": "code",
   "execution_count": null,
   "id": "initial_id",
   "metadata": {
    "collapsed": true
   },
   "outputs": [],
   "source": ""
  }
 ],
 "metadata": {
  "kernelspec": {
   "display_name": "Python 3",
   "language": "python",
   "name": "python3"
  },
  "language_info": {
   "codemirror_mode": {
    "name": "ipython",
    "version": 2
   },
   "file_extension": ".py",
   "mimetype": "text/x-python",
   "name": "python",
   "nbconvert_exporter": "python",
   "pygments_lexer": "ipython2",
   "version": "2.7.6"
  }
 },
 "nbformat": 4,
 "nbformat_minor": 5
}
