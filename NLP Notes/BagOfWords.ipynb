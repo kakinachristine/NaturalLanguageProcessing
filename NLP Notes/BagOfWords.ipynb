{
 "cells": [
  {
   "metadata": {},
   "cell_type": "markdown",
   "source": "## 🧠 Bag of Words (BoW)",
   "id": "67d82cf21e725d5c"
  },
  {
   "metadata": {
    "ExecuteTime": {
     "end_time": "2025-07-24T08:43:56.691626Z",
     "start_time": "2025-07-24T08:43:55.165179Z"
    }
   },
   "cell_type": "code",
   "source": [
    "from nltk import PorterStemmer\n",
    "\n",
    "data1 = [\n",
    "    \"I love natural language processing\",\n",
    "    \"Bag of words is a simple technique\",\n",
    "    \"Machine learning is fun and powerful\",\n",
    "    \"Text classification uses word counts\",\n",
    "    \"I enjoy learning about data science\",\n",
    "    \"This model converts text to vectors\",\n",
    "    \"NLP tasks include sentiment analysis\",\n",
    "    \"Text data needs preprocessing\",\n",
    "    \"Feature extraction is important in NLP\",\n",
    "    \"We use vectorization to represent text\"\n",
    "]\n"
   ],
   "id": "703153d29628fc75",
   "outputs": [],
   "execution_count": 1
  },
  {
   "metadata": {
    "ExecuteTime": {
     "end_time": "2025-07-24T08:43:56.857655Z",
     "start_time": "2025-07-24T08:43:56.854392Z"
    }
   },
   "cell_type": "code",
   "source": [
    "#Import Libraries\n",
    "from sklearn.feature_extraction.text import CountVectorizer\n",
    "import pandas as pd"
   ],
   "id": "467166ce7655f142",
   "outputs": [],
   "execution_count": 2
  },
  {
   "metadata": {
    "ExecuteTime": {
     "end_time": "2025-07-24T08:43:56.883255Z",
     "start_time": "2025-07-24T08:43:56.871803Z"
    }
   },
   "cell_type": "code",
   "source": [
    "# vectorize the data into a numeric matrix\n",
    "cv = CountVectorizer()\n",
    "newData = cv.fit_transform(data1)\n",
    "newData\n",
    "# Output: metrix of  10 rows and 44 columns with 53 non-zero word counts\n",
    "# Sparse matrix :each word in sentence has to be represented in the 44 columns(representation of unique words)\n",
    "# Representation is in integer (64)\n",
    "# The count/entry depends on the occurrence of a word in each sentence(row)\n",
    "# text case sensitive to convert all text to text\n"
   ],
   "id": "5e3fd13ce70f652a",
   "outputs": [
    {
     "data": {
      "text/plain": [
       "<Compressed Sparse Row sparse matrix of dtype 'int64'\n",
       "\twith 53 stored elements and shape (10, 44)>"
      ]
     },
     "execution_count": 3,
     "metadata": {},
     "output_type": "execute_result"
    }
   ],
   "execution_count": 3
  },
  {
   "metadata": {
    "ExecuteTime": {
     "end_time": "2025-07-24T08:43:56.906468Z",
     "start_time": "2025-07-24T08:43:56.898760Z"
    }
   },
   "cell_type": "code",
   "source": "newData.toarray()",
   "id": "f7b4746dedbaa126",
   "outputs": [
    {
     "data": {
      "text/plain": [
       "array([[0, 0, 0, 0, 0, 0, 0, 0, 0, 0, 0, 0, 0, 0, 0, 0, 1, 0, 1, 0, 0, 1,\n",
       "        0, 0, 0, 0, 0, 1, 0, 0, 0, 0, 0, 0, 0, 0, 0, 0, 0, 0, 0, 0, 0, 0],\n",
       "       [0, 0, 0, 1, 0, 0, 0, 0, 0, 0, 0, 0, 0, 0, 0, 1, 0, 0, 0, 0, 0, 0,\n",
       "        0, 0, 1, 0, 0, 0, 0, 0, 0, 1, 0, 1, 0, 0, 0, 0, 0, 0, 0, 0, 0, 1],\n",
       "       [0, 0, 1, 0, 0, 0, 0, 0, 0, 0, 0, 1, 0, 0, 0, 1, 0, 1, 0, 1, 0, 0,\n",
       "        0, 0, 0, 1, 0, 0, 0, 0, 0, 0, 0, 0, 0, 0, 0, 0, 0, 0, 0, 0, 0, 0],\n",
       "       [0, 0, 0, 0, 1, 0, 1, 0, 0, 0, 0, 0, 0, 0, 0, 0, 0, 0, 0, 0, 0, 0,\n",
       "        0, 0, 0, 0, 0, 0, 0, 0, 0, 0, 0, 0, 1, 0, 0, 0, 1, 0, 0, 0, 1, 0],\n",
       "       [1, 0, 0, 0, 0, 0, 0, 1, 1, 0, 0, 0, 0, 0, 0, 0, 0, 1, 0, 0, 0, 0,\n",
       "        0, 0, 0, 0, 0, 0, 0, 1, 0, 0, 0, 0, 0, 0, 0, 0, 0, 0, 0, 0, 0, 0],\n",
       "       [0, 0, 0, 0, 0, 1, 0, 0, 0, 0, 0, 0, 0, 0, 0, 0, 0, 0, 0, 0, 1, 0,\n",
       "        0, 0, 0, 0, 0, 0, 0, 0, 0, 0, 0, 0, 1, 1, 1, 0, 0, 0, 1, 0, 0, 0],\n",
       "       [0, 1, 0, 0, 0, 0, 0, 0, 0, 0, 0, 0, 0, 0, 1, 0, 0, 0, 0, 0, 0, 0,\n",
       "        0, 1, 0, 0, 0, 0, 0, 0, 1, 0, 1, 0, 0, 0, 0, 0, 0, 0, 0, 0, 0, 0],\n",
       "       [0, 0, 0, 0, 0, 0, 0, 1, 0, 0, 0, 0, 0, 0, 0, 0, 0, 0, 0, 0, 0, 0,\n",
       "        1, 0, 0, 0, 1, 0, 0, 0, 0, 0, 0, 0, 1, 0, 0, 0, 0, 0, 0, 0, 0, 0],\n",
       "       [0, 0, 0, 0, 0, 0, 0, 0, 0, 1, 1, 0, 1, 1, 0, 1, 0, 0, 0, 0, 0, 0,\n",
       "        0, 1, 0, 0, 0, 0, 0, 0, 0, 0, 0, 0, 0, 0, 0, 0, 0, 0, 0, 0, 0, 0],\n",
       "       [0, 0, 0, 0, 0, 0, 0, 0, 0, 0, 0, 0, 0, 0, 0, 0, 0, 0, 0, 0, 0, 0,\n",
       "        0, 0, 0, 0, 0, 0, 1, 0, 0, 0, 0, 0, 1, 0, 1, 1, 0, 1, 0, 1, 0, 0]])"
      ]
     },
     "execution_count": 4,
     "metadata": {},
     "output_type": "execute_result"
    }
   ],
   "execution_count": 4
  },
  {
   "metadata": {
    "ExecuteTime": {
     "end_time": "2025-07-24T08:43:56.930923Z",
     "start_time": "2025-07-24T08:43:56.923624Z"
    }
   },
   "cell_type": "code",
   "source": "newData.shape",
   "id": "d57077036035b503",
   "outputs": [
    {
     "data": {
      "text/plain": [
       "(10, 44)"
      ]
     },
     "execution_count": 5,
     "metadata": {},
     "output_type": "execute_result"
    }
   ],
   "execution_count": 5
  },
  {
   "metadata": {
    "ExecuteTime": {
     "end_time": "2025-07-24T08:43:56.986419Z",
     "start_time": "2025-07-24T08:43:56.979738Z"
    }
   },
   "cell_type": "code",
   "source": [
    "#Dimensuion of the matrix\n",
    "newData.ndim"
   ],
   "id": "5e339cbecb502c70",
   "outputs": [
    {
     "data": {
      "text/plain": [
       "2"
      ]
     },
     "execution_count": 6,
     "metadata": {},
     "output_type": "execute_result"
    }
   ],
   "execution_count": 6
  },
  {
   "metadata": {
    "ExecuteTime": {
     "end_time": "2025-07-24T08:43:57.064529Z",
     "start_time": "2025-07-24T08:43:57.057792Z"
    }
   },
   "cell_type": "code",
   "source": [
    "#Get the unique words\n",
    "cv.get_feature_names_out()"
   ],
   "id": "603ac034389fa43c",
   "outputs": [
    {
     "data": {
      "text/plain": [
       "array(['about', 'analysis', 'and', 'bag', 'classification', 'converts',\n",
       "       'counts', 'data', 'enjoy', 'extraction', 'feature', 'fun',\n",
       "       'important', 'in', 'include', 'is', 'language', 'learning', 'love',\n",
       "       'machine', 'model', 'natural', 'needs', 'nlp', 'of', 'powerful',\n",
       "       'preprocessing', 'processing', 'represent', 'science', 'sentiment',\n",
       "       'simple', 'tasks', 'technique', 'text', 'this', 'to', 'use',\n",
       "       'uses', 'vectorization', 'vectors', 'we', 'word', 'words'],\n",
       "      dtype=object)"
      ]
     },
     "execution_count": 7,
     "metadata": {},
     "output_type": "execute_result"
    }
   ],
   "execution_count": 7
  },
  {
   "metadata": {
    "ExecuteTime": {
     "end_time": "2025-07-24T08:43:57.109621Z",
     "start_time": "2025-07-24T08:43:57.092767Z"
    }
   },
   "cell_type": "code",
   "source": [
    "# Initialize dataframe from our newData array and out columns from our data unique words\n",
    "df = pd.DataFrame(data=newData.toarray(), columns=cv.get_feature_names_out())\n",
    "df"
   ],
   "id": "b9cfa1c637ed49b8",
   "outputs": [
    {
     "data": {
      "text/plain": [
       "   about  analysis  and  bag  classification  converts  counts  data  enjoy  \\\n",
       "0      0         0    0    0               0         0       0     0      0   \n",
       "1      0         0    0    1               0         0       0     0      0   \n",
       "2      0         0    1    0               0         0       0     0      0   \n",
       "3      0         0    0    0               1         0       1     0      0   \n",
       "4      1         0    0    0               0         0       0     1      1   \n",
       "5      0         0    0    0               0         1       0     0      0   \n",
       "6      0         1    0    0               0         0       0     0      0   \n",
       "7      0         0    0    0               0         0       0     1      0   \n",
       "8      0         0    0    0               0         0       0     0      0   \n",
       "9      0         0    0    0               0         0       0     0      0   \n",
       "\n",
       "   extraction  ...  text  this  to  use  uses  vectorization  vectors  we  \\\n",
       "0           0  ...     0     0   0    0     0              0        0   0   \n",
       "1           0  ...     0     0   0    0     0              0        0   0   \n",
       "2           0  ...     0     0   0    0     0              0        0   0   \n",
       "3           0  ...     1     0   0    0     1              0        0   0   \n",
       "4           0  ...     0     0   0    0     0              0        0   0   \n",
       "5           0  ...     1     1   1    0     0              0        1   0   \n",
       "6           0  ...     0     0   0    0     0              0        0   0   \n",
       "7           0  ...     1     0   0    0     0              0        0   0   \n",
       "8           1  ...     0     0   0    0     0              0        0   0   \n",
       "9           0  ...     1     0   1    1     0              1        0   1   \n",
       "\n",
       "   word  words  \n",
       "0     0      0  \n",
       "1     0      1  \n",
       "2     0      0  \n",
       "3     1      0  \n",
       "4     0      0  \n",
       "5     0      0  \n",
       "6     0      0  \n",
       "7     0      0  \n",
       "8     0      0  \n",
       "9     0      0  \n",
       "\n",
       "[10 rows x 44 columns]"
      ],
      "text/html": [
       "<div>\n",
       "<style scoped>\n",
       "    .dataframe tbody tr th:only-of-type {\n",
       "        vertical-align: middle;\n",
       "    }\n",
       "\n",
       "    .dataframe tbody tr th {\n",
       "        vertical-align: top;\n",
       "    }\n",
       "\n",
       "    .dataframe thead th {\n",
       "        text-align: right;\n",
       "    }\n",
       "</style>\n",
       "<table border=\"1\" class=\"dataframe\">\n",
       "  <thead>\n",
       "    <tr style=\"text-align: right;\">\n",
       "      <th></th>\n",
       "      <th>about</th>\n",
       "      <th>analysis</th>\n",
       "      <th>and</th>\n",
       "      <th>bag</th>\n",
       "      <th>classification</th>\n",
       "      <th>converts</th>\n",
       "      <th>counts</th>\n",
       "      <th>data</th>\n",
       "      <th>enjoy</th>\n",
       "      <th>extraction</th>\n",
       "      <th>...</th>\n",
       "      <th>text</th>\n",
       "      <th>this</th>\n",
       "      <th>to</th>\n",
       "      <th>use</th>\n",
       "      <th>uses</th>\n",
       "      <th>vectorization</th>\n",
       "      <th>vectors</th>\n",
       "      <th>we</th>\n",
       "      <th>word</th>\n",
       "      <th>words</th>\n",
       "    </tr>\n",
       "  </thead>\n",
       "  <tbody>\n",
       "    <tr>\n",
       "      <th>0</th>\n",
       "      <td>0</td>\n",
       "      <td>0</td>\n",
       "      <td>0</td>\n",
       "      <td>0</td>\n",
       "      <td>0</td>\n",
       "      <td>0</td>\n",
       "      <td>0</td>\n",
       "      <td>0</td>\n",
       "      <td>0</td>\n",
       "      <td>0</td>\n",
       "      <td>...</td>\n",
       "      <td>0</td>\n",
       "      <td>0</td>\n",
       "      <td>0</td>\n",
       "      <td>0</td>\n",
       "      <td>0</td>\n",
       "      <td>0</td>\n",
       "      <td>0</td>\n",
       "      <td>0</td>\n",
       "      <td>0</td>\n",
       "      <td>0</td>\n",
       "    </tr>\n",
       "    <tr>\n",
       "      <th>1</th>\n",
       "      <td>0</td>\n",
       "      <td>0</td>\n",
       "      <td>0</td>\n",
       "      <td>1</td>\n",
       "      <td>0</td>\n",
       "      <td>0</td>\n",
       "      <td>0</td>\n",
       "      <td>0</td>\n",
       "      <td>0</td>\n",
       "      <td>0</td>\n",
       "      <td>...</td>\n",
       "      <td>0</td>\n",
       "      <td>0</td>\n",
       "      <td>0</td>\n",
       "      <td>0</td>\n",
       "      <td>0</td>\n",
       "      <td>0</td>\n",
       "      <td>0</td>\n",
       "      <td>0</td>\n",
       "      <td>0</td>\n",
       "      <td>1</td>\n",
       "    </tr>\n",
       "    <tr>\n",
       "      <th>2</th>\n",
       "      <td>0</td>\n",
       "      <td>0</td>\n",
       "      <td>1</td>\n",
       "      <td>0</td>\n",
       "      <td>0</td>\n",
       "      <td>0</td>\n",
       "      <td>0</td>\n",
       "      <td>0</td>\n",
       "      <td>0</td>\n",
       "      <td>0</td>\n",
       "      <td>...</td>\n",
       "      <td>0</td>\n",
       "      <td>0</td>\n",
       "      <td>0</td>\n",
       "      <td>0</td>\n",
       "      <td>0</td>\n",
       "      <td>0</td>\n",
       "      <td>0</td>\n",
       "      <td>0</td>\n",
       "      <td>0</td>\n",
       "      <td>0</td>\n",
       "    </tr>\n",
       "    <tr>\n",
       "      <th>3</th>\n",
       "      <td>0</td>\n",
       "      <td>0</td>\n",
       "      <td>0</td>\n",
       "      <td>0</td>\n",
       "      <td>1</td>\n",
       "      <td>0</td>\n",
       "      <td>1</td>\n",
       "      <td>0</td>\n",
       "      <td>0</td>\n",
       "      <td>0</td>\n",
       "      <td>...</td>\n",
       "      <td>1</td>\n",
       "      <td>0</td>\n",
       "      <td>0</td>\n",
       "      <td>0</td>\n",
       "      <td>1</td>\n",
       "      <td>0</td>\n",
       "      <td>0</td>\n",
       "      <td>0</td>\n",
       "      <td>1</td>\n",
       "      <td>0</td>\n",
       "    </tr>\n",
       "    <tr>\n",
       "      <th>4</th>\n",
       "      <td>1</td>\n",
       "      <td>0</td>\n",
       "      <td>0</td>\n",
       "      <td>0</td>\n",
       "      <td>0</td>\n",
       "      <td>0</td>\n",
       "      <td>0</td>\n",
       "      <td>1</td>\n",
       "      <td>1</td>\n",
       "      <td>0</td>\n",
       "      <td>...</td>\n",
       "      <td>0</td>\n",
       "      <td>0</td>\n",
       "      <td>0</td>\n",
       "      <td>0</td>\n",
       "      <td>0</td>\n",
       "      <td>0</td>\n",
       "      <td>0</td>\n",
       "      <td>0</td>\n",
       "      <td>0</td>\n",
       "      <td>0</td>\n",
       "    </tr>\n",
       "    <tr>\n",
       "      <th>5</th>\n",
       "      <td>0</td>\n",
       "      <td>0</td>\n",
       "      <td>0</td>\n",
       "      <td>0</td>\n",
       "      <td>0</td>\n",
       "      <td>1</td>\n",
       "      <td>0</td>\n",
       "      <td>0</td>\n",
       "      <td>0</td>\n",
       "      <td>0</td>\n",
       "      <td>...</td>\n",
       "      <td>1</td>\n",
       "      <td>1</td>\n",
       "      <td>1</td>\n",
       "      <td>0</td>\n",
       "      <td>0</td>\n",
       "      <td>0</td>\n",
       "      <td>1</td>\n",
       "      <td>0</td>\n",
       "      <td>0</td>\n",
       "      <td>0</td>\n",
       "    </tr>\n",
       "    <tr>\n",
       "      <th>6</th>\n",
       "      <td>0</td>\n",
       "      <td>1</td>\n",
       "      <td>0</td>\n",
       "      <td>0</td>\n",
       "      <td>0</td>\n",
       "      <td>0</td>\n",
       "      <td>0</td>\n",
       "      <td>0</td>\n",
       "      <td>0</td>\n",
       "      <td>0</td>\n",
       "      <td>...</td>\n",
       "      <td>0</td>\n",
       "      <td>0</td>\n",
       "      <td>0</td>\n",
       "      <td>0</td>\n",
       "      <td>0</td>\n",
       "      <td>0</td>\n",
       "      <td>0</td>\n",
       "      <td>0</td>\n",
       "      <td>0</td>\n",
       "      <td>0</td>\n",
       "    </tr>\n",
       "    <tr>\n",
       "      <th>7</th>\n",
       "      <td>0</td>\n",
       "      <td>0</td>\n",
       "      <td>0</td>\n",
       "      <td>0</td>\n",
       "      <td>0</td>\n",
       "      <td>0</td>\n",
       "      <td>0</td>\n",
       "      <td>1</td>\n",
       "      <td>0</td>\n",
       "      <td>0</td>\n",
       "      <td>...</td>\n",
       "      <td>1</td>\n",
       "      <td>0</td>\n",
       "      <td>0</td>\n",
       "      <td>0</td>\n",
       "      <td>0</td>\n",
       "      <td>0</td>\n",
       "      <td>0</td>\n",
       "      <td>0</td>\n",
       "      <td>0</td>\n",
       "      <td>0</td>\n",
       "    </tr>\n",
       "    <tr>\n",
       "      <th>8</th>\n",
       "      <td>0</td>\n",
       "      <td>0</td>\n",
       "      <td>0</td>\n",
       "      <td>0</td>\n",
       "      <td>0</td>\n",
       "      <td>0</td>\n",
       "      <td>0</td>\n",
       "      <td>0</td>\n",
       "      <td>0</td>\n",
       "      <td>1</td>\n",
       "      <td>...</td>\n",
       "      <td>0</td>\n",
       "      <td>0</td>\n",
       "      <td>0</td>\n",
       "      <td>0</td>\n",
       "      <td>0</td>\n",
       "      <td>0</td>\n",
       "      <td>0</td>\n",
       "      <td>0</td>\n",
       "      <td>0</td>\n",
       "      <td>0</td>\n",
       "    </tr>\n",
       "    <tr>\n",
       "      <th>9</th>\n",
       "      <td>0</td>\n",
       "      <td>0</td>\n",
       "      <td>0</td>\n",
       "      <td>0</td>\n",
       "      <td>0</td>\n",
       "      <td>0</td>\n",
       "      <td>0</td>\n",
       "      <td>0</td>\n",
       "      <td>0</td>\n",
       "      <td>0</td>\n",
       "      <td>...</td>\n",
       "      <td>1</td>\n",
       "      <td>0</td>\n",
       "      <td>1</td>\n",
       "      <td>1</td>\n",
       "      <td>0</td>\n",
       "      <td>1</td>\n",
       "      <td>0</td>\n",
       "      <td>1</td>\n",
       "      <td>0</td>\n",
       "      <td>0</td>\n",
       "    </tr>\n",
       "  </tbody>\n",
       "</table>\n",
       "<p>10 rows × 44 columns</p>\n",
       "</div>"
      ]
     },
     "execution_count": 8,
     "metadata": {},
     "output_type": "execute_result"
    }
   ],
   "execution_count": 8
  }
 ],
 "metadata": {
  "kernelspec": {
   "display_name": "Python 3",
   "language": "python",
   "name": "python3"
  },
  "language_info": {
   "codemirror_mode": {
    "name": "ipython",
    "version": 2
   },
   "file_extension": ".py",
   "mimetype": "text/x-python",
   "name": "python",
   "nbconvert_exporter": "python",
   "pygments_lexer": "ipython2",
   "version": "2.7.6"
  }
 },
 "nbformat": 4,
 "nbformat_minor": 5
}
