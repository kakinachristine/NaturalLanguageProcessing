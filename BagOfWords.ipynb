{
 "cells": [
  {
   "metadata": {},
   "cell_type": "markdown",
   "source": [
    "### Natural Language Preprocessing\n",
    "#### Preprocessing in NLP\n",
    "###### -Tokenization: converts a single sentence/ text into single words\n",
    "###### -Lowercasing: convert all words to lowercase\n",
    "###### -Base form of the word: Convert words to single base form,finds unique word in words that share a common meaning(jump,jumped,jumping,jumps to jump) uses: stemming,lemmatization\n",
    "###### -stopword removal: removing common words that are for english like this, she , the e.t.c. This words are not important hence removal\n",
    "###### -Punctuation removal\n",
    "###### -Remove contraction e.g. from can't to cannot"
   ],
   "id": "778fbcec9680e8c4"
  },
  {
   "metadata": {
    "ExecuteTime": {
     "end_time": "2025-07-23T13:19:47.547429Z",
     "start_time": "2025-07-23T13:19:47.544989Z"
    }
   },
   "cell_type": "code",
   "source": "",
   "id": "c203a55aa9711eae",
   "outputs": [],
   "execution_count": null
  },
  {
   "metadata": {},
   "cell_type": "markdown",
   "source": "## 🧠 Bag of Words (BoW)",
   "id": "f80190ca7bc126cd"
  },
  {
   "metadata": {
    "ExecuteTime": {
     "end_time": "2025-07-23T13:19:47.576489Z",
     "start_time": "2025-07-23T13:19:47.571426Z"
    }
   },
   "cell_type": "code",
   "source": [
    "data1 = [\n",
    "    \"I love natural language processing\",\n",
    "    \"Bag of words is a simple technique\",\n",
    "    \"Machine learning is fun and powerful\",\n",
    "    \"Text classification uses word counts\",\n",
    "    \"I enjoy learning about data science\",\n",
    "    \"This model converts text to vectors\",\n",
    "    \"NLP tasks include sentiment analysis\",\n",
    "    \"Text data needs preprocessing\",\n",
    "    \"Feature extraction is important in NLP\",\n",
    "    \"We use vectorization to represent text\"\n",
    "]\n"
   ],
   "id": "initial_id",
   "outputs": [],
   "execution_count": 40
  },
  {
   "metadata": {
    "ExecuteTime": {
     "end_time": "2025-07-23T13:19:47.611899Z",
     "start_time": "2025-07-23T13:19:47.607156Z"
    }
   },
   "cell_type": "code",
   "source": [
    "#Import Libraries\n",
    "from sklearn.feature_extraction.text import CountVectorizer\n",
    "import pandas as pd"
   ],
   "id": "3f698ae3ed9f89a2",
   "outputs": [],
   "execution_count": 41
  },
  {
   "metadata": {
    "ExecuteTime": {
     "end_time": "2025-07-23T13:19:47.654300Z",
     "start_time": "2025-07-23T13:19:47.644944Z"
    }
   },
   "cell_type": "code",
   "source": [
    "# vectorize the data into a numeric matrix\n",
    "cv = CountVectorizer()\n",
    "newData=cv.fit_transform(data1)\n",
    "newData\n",
    "# Output: metrix of  10 rows and 44 columns with 53 non-zero word counts\n",
    "# Sparse matrix :each word in sentence has to be represented in the 44 columns(representation of unique words)\n",
    "# Representation is in integer (64)\n",
    "# The count/entry depends on the occurrence of a word in each sentence(row)\n",
    "# text case sensitive to convert all text to text\n"
   ],
   "id": "1102228d130ec7e6",
   "outputs": [
    {
     "data": {
      "text/plain": [
       "<Compressed Sparse Row sparse matrix of dtype 'int64'\n",
       "\twith 53 stored elements and shape (10, 44)>"
      ]
     },
     "execution_count": 42,
     "metadata": {},
     "output_type": "execute_result"
    }
   ],
   "execution_count": 42
  },
  {
   "metadata": {
    "ExecuteTime": {
     "end_time": "2025-07-23T13:19:47.695988Z",
     "start_time": "2025-07-23T13:19:47.686649Z"
    }
   },
   "cell_type": "code",
   "source": "newData.toarray()",
   "id": "b731adb15c123124",
   "outputs": [
    {
     "data": {
      "text/plain": [
       "array([[0, 0, 0, 0, 0, 0, 0, 0, 0, 0, 0, 0, 0, 0, 0, 0, 1, 0, 1, 0, 0, 1,\n",
       "        0, 0, 0, 0, 0, 1, 0, 0, 0, 0, 0, 0, 0, 0, 0, 0, 0, 0, 0, 0, 0, 0],\n",
       "       [0, 0, 0, 1, 0, 0, 0, 0, 0, 0, 0, 0, 0, 0, 0, 1, 0, 0, 0, 0, 0, 0,\n",
       "        0, 0, 1, 0, 0, 0, 0, 0, 0, 1, 0, 1, 0, 0, 0, 0, 0, 0, 0, 0, 0, 1],\n",
       "       [0, 0, 1, 0, 0, 0, 0, 0, 0, 0, 0, 1, 0, 0, 0, 1, 0, 1, 0, 1, 0, 0,\n",
       "        0, 0, 0, 1, 0, 0, 0, 0, 0, 0, 0, 0, 0, 0, 0, 0, 0, 0, 0, 0, 0, 0],\n",
       "       [0, 0, 0, 0, 1, 0, 1, 0, 0, 0, 0, 0, 0, 0, 0, 0, 0, 0, 0, 0, 0, 0,\n",
       "        0, 0, 0, 0, 0, 0, 0, 0, 0, 0, 0, 0, 1, 0, 0, 0, 1, 0, 0, 0, 1, 0],\n",
       "       [1, 0, 0, 0, 0, 0, 0, 1, 1, 0, 0, 0, 0, 0, 0, 0, 0, 1, 0, 0, 0, 0,\n",
       "        0, 0, 0, 0, 0, 0, 0, 1, 0, 0, 0, 0, 0, 0, 0, 0, 0, 0, 0, 0, 0, 0],\n",
       "       [0, 0, 0, 0, 0, 1, 0, 0, 0, 0, 0, 0, 0, 0, 0, 0, 0, 0, 0, 0, 1, 0,\n",
       "        0, 0, 0, 0, 0, 0, 0, 0, 0, 0, 0, 0, 1, 1, 1, 0, 0, 0, 1, 0, 0, 0],\n",
       "       [0, 1, 0, 0, 0, 0, 0, 0, 0, 0, 0, 0, 0, 0, 1, 0, 0, 0, 0, 0, 0, 0,\n",
       "        0, 1, 0, 0, 0, 0, 0, 0, 1, 0, 1, 0, 0, 0, 0, 0, 0, 0, 0, 0, 0, 0],\n",
       "       [0, 0, 0, 0, 0, 0, 0, 1, 0, 0, 0, 0, 0, 0, 0, 0, 0, 0, 0, 0, 0, 0,\n",
       "        1, 0, 0, 0, 1, 0, 0, 0, 0, 0, 0, 0, 1, 0, 0, 0, 0, 0, 0, 0, 0, 0],\n",
       "       [0, 0, 0, 0, 0, 0, 0, 0, 0, 1, 1, 0, 1, 1, 0, 1, 0, 0, 0, 0, 0, 0,\n",
       "        0, 1, 0, 0, 0, 0, 0, 0, 0, 0, 0, 0, 0, 0, 0, 0, 0, 0, 0, 0, 0, 0],\n",
       "       [0, 0, 0, 0, 0, 0, 0, 0, 0, 0, 0, 0, 0, 0, 0, 0, 0, 0, 0, 0, 0, 0,\n",
       "        0, 0, 0, 0, 0, 0, 1, 0, 0, 0, 0, 0, 1, 0, 1, 1, 0, 1, 0, 1, 0, 0]])"
      ]
     },
     "execution_count": 43,
     "metadata": {},
     "output_type": "execute_result"
    }
   ],
   "execution_count": 43
  },
  {
   "metadata": {
    "ExecuteTime": {
     "end_time": "2025-07-23T13:19:47.790325Z",
     "start_time": "2025-07-23T13:19:47.783369Z"
    }
   },
   "cell_type": "code",
   "source": "newData.shape",
   "id": "49d86c62124edbbb",
   "outputs": [
    {
     "data": {
      "text/plain": [
       "(10, 44)"
      ]
     },
     "execution_count": 44,
     "metadata": {},
     "output_type": "execute_result"
    }
   ],
   "execution_count": 44
  },
  {
   "metadata": {
    "ExecuteTime": {
     "end_time": "2025-07-23T13:19:47.885776Z",
     "start_time": "2025-07-23T13:19:47.877827Z"
    }
   },
   "cell_type": "code",
   "source": [
    "#Dimensuion of the matrix\n",
    "newData.ndim"
   ],
   "id": "16550a25b97a62e",
   "outputs": [
    {
     "data": {
      "text/plain": [
       "2"
      ]
     },
     "execution_count": 45,
     "metadata": {},
     "output_type": "execute_result"
    }
   ],
   "execution_count": 45
  },
  {
   "metadata": {
    "ExecuteTime": {
     "end_time": "2025-07-23T13:19:48.095646Z",
     "start_time": "2025-07-23T13:19:48.088362Z"
    }
   },
   "cell_type": "code",
   "source": [
    "#Get the unique words\n",
    "cv.get_feature_names_out()"
   ],
   "id": "445e38a73d75e8c9",
   "outputs": [
    {
     "data": {
      "text/plain": [
       "array(['about', 'analysis', 'and', 'bag', 'classification', 'converts',\n",
       "       'counts', 'data', 'enjoy', 'extraction', 'feature', 'fun',\n",
       "       'important', 'in', 'include', 'is', 'language', 'learning', 'love',\n",
       "       'machine', 'model', 'natural', 'needs', 'nlp', 'of', 'powerful',\n",
       "       'preprocessing', 'processing', 'represent', 'science', 'sentiment',\n",
       "       'simple', 'tasks', 'technique', 'text', 'this', 'to', 'use',\n",
       "       'uses', 'vectorization', 'vectors', 'we', 'word', 'words'],\n",
       "      dtype=object)"
      ]
     },
     "execution_count": 46,
     "metadata": {},
     "output_type": "execute_result"
    }
   ],
   "execution_count": 46
  },
  {
   "metadata": {
    "ExecuteTime": {
     "end_time": "2025-07-23T13:19:48.174873Z",
     "start_time": "2025-07-23T13:19:48.158874Z"
    }
   },
   "cell_type": "code",
   "source": [
    "# Initialize dataframe from our newData array and out columns from our data unique words\n",
    "df= pd.DataFrame(data=newData.toarray(),columns=cv.get_feature_names_out())\n",
    "df"
   ],
   "id": "4185236d23563b2e",
   "outputs": [
    {
     "data": {
      "text/plain": [
       "   about  analysis  and  bag  classification  converts  counts  data  enjoy  \\\n",
       "0      0         0    0    0               0         0       0     0      0   \n",
       "1      0         0    0    1               0         0       0     0      0   \n",
       "2      0         0    1    0               0         0       0     0      0   \n",
       "3      0         0    0    0               1         0       1     0      0   \n",
       "4      1         0    0    0               0         0       0     1      1   \n",
       "5      0         0    0    0               0         1       0     0      0   \n",
       "6      0         1    0    0               0         0       0     0      0   \n",
       "7      0         0    0    0               0         0       0     1      0   \n",
       "8      0         0    0    0               0         0       0     0      0   \n",
       "9      0         0    0    0               0         0       0     0      0   \n",
       "\n",
       "   extraction  ...  text  this  to  use  uses  vectorization  vectors  we  \\\n",
       "0           0  ...     0     0   0    0     0              0        0   0   \n",
       "1           0  ...     0     0   0    0     0              0        0   0   \n",
       "2           0  ...     0     0   0    0     0              0        0   0   \n",
       "3           0  ...     1     0   0    0     1              0        0   0   \n",
       "4           0  ...     0     0   0    0     0              0        0   0   \n",
       "5           0  ...     1     1   1    0     0              0        1   0   \n",
       "6           0  ...     0     0   0    0     0              0        0   0   \n",
       "7           0  ...     1     0   0    0     0              0        0   0   \n",
       "8           1  ...     0     0   0    0     0              0        0   0   \n",
       "9           0  ...     1     0   1    1     0              1        0   1   \n",
       "\n",
       "   word  words  \n",
       "0     0      0  \n",
       "1     0      1  \n",
       "2     0      0  \n",
       "3     1      0  \n",
       "4     0      0  \n",
       "5     0      0  \n",
       "6     0      0  \n",
       "7     0      0  \n",
       "8     0      0  \n",
       "9     0      0  \n",
       "\n",
       "[10 rows x 44 columns]"
      ],
      "text/html": [
       "<div>\n",
       "<style scoped>\n",
       "    .dataframe tbody tr th:only-of-type {\n",
       "        vertical-align: middle;\n",
       "    }\n",
       "\n",
       "    .dataframe tbody tr th {\n",
       "        vertical-align: top;\n",
       "    }\n",
       "\n",
       "    .dataframe thead th {\n",
       "        text-align: right;\n",
       "    }\n",
       "</style>\n",
       "<table border=\"1\" class=\"dataframe\">\n",
       "  <thead>\n",
       "    <tr style=\"text-align: right;\">\n",
       "      <th></th>\n",
       "      <th>about</th>\n",
       "      <th>analysis</th>\n",
       "      <th>and</th>\n",
       "      <th>bag</th>\n",
       "      <th>classification</th>\n",
       "      <th>converts</th>\n",
       "      <th>counts</th>\n",
       "      <th>data</th>\n",
       "      <th>enjoy</th>\n",
       "      <th>extraction</th>\n",
       "      <th>...</th>\n",
       "      <th>text</th>\n",
       "      <th>this</th>\n",
       "      <th>to</th>\n",
       "      <th>use</th>\n",
       "      <th>uses</th>\n",
       "      <th>vectorization</th>\n",
       "      <th>vectors</th>\n",
       "      <th>we</th>\n",
       "      <th>word</th>\n",
       "      <th>words</th>\n",
       "    </tr>\n",
       "  </thead>\n",
       "  <tbody>\n",
       "    <tr>\n",
       "      <th>0</th>\n",
       "      <td>0</td>\n",
       "      <td>0</td>\n",
       "      <td>0</td>\n",
       "      <td>0</td>\n",
       "      <td>0</td>\n",
       "      <td>0</td>\n",
       "      <td>0</td>\n",
       "      <td>0</td>\n",
       "      <td>0</td>\n",
       "      <td>0</td>\n",
       "      <td>...</td>\n",
       "      <td>0</td>\n",
       "      <td>0</td>\n",
       "      <td>0</td>\n",
       "      <td>0</td>\n",
       "      <td>0</td>\n",
       "      <td>0</td>\n",
       "      <td>0</td>\n",
       "      <td>0</td>\n",
       "      <td>0</td>\n",
       "      <td>0</td>\n",
       "    </tr>\n",
       "    <tr>\n",
       "      <th>1</th>\n",
       "      <td>0</td>\n",
       "      <td>0</td>\n",
       "      <td>0</td>\n",
       "      <td>1</td>\n",
       "      <td>0</td>\n",
       "      <td>0</td>\n",
       "      <td>0</td>\n",
       "      <td>0</td>\n",
       "      <td>0</td>\n",
       "      <td>0</td>\n",
       "      <td>...</td>\n",
       "      <td>0</td>\n",
       "      <td>0</td>\n",
       "      <td>0</td>\n",
       "      <td>0</td>\n",
       "      <td>0</td>\n",
       "      <td>0</td>\n",
       "      <td>0</td>\n",
       "      <td>0</td>\n",
       "      <td>0</td>\n",
       "      <td>1</td>\n",
       "    </tr>\n",
       "    <tr>\n",
       "      <th>2</th>\n",
       "      <td>0</td>\n",
       "      <td>0</td>\n",
       "      <td>1</td>\n",
       "      <td>0</td>\n",
       "      <td>0</td>\n",
       "      <td>0</td>\n",
       "      <td>0</td>\n",
       "      <td>0</td>\n",
       "      <td>0</td>\n",
       "      <td>0</td>\n",
       "      <td>...</td>\n",
       "      <td>0</td>\n",
       "      <td>0</td>\n",
       "      <td>0</td>\n",
       "      <td>0</td>\n",
       "      <td>0</td>\n",
       "      <td>0</td>\n",
       "      <td>0</td>\n",
       "      <td>0</td>\n",
       "      <td>0</td>\n",
       "      <td>0</td>\n",
       "    </tr>\n",
       "    <tr>\n",
       "      <th>3</th>\n",
       "      <td>0</td>\n",
       "      <td>0</td>\n",
       "      <td>0</td>\n",
       "      <td>0</td>\n",
       "      <td>1</td>\n",
       "      <td>0</td>\n",
       "      <td>1</td>\n",
       "      <td>0</td>\n",
       "      <td>0</td>\n",
       "      <td>0</td>\n",
       "      <td>...</td>\n",
       "      <td>1</td>\n",
       "      <td>0</td>\n",
       "      <td>0</td>\n",
       "      <td>0</td>\n",
       "      <td>1</td>\n",
       "      <td>0</td>\n",
       "      <td>0</td>\n",
       "      <td>0</td>\n",
       "      <td>1</td>\n",
       "      <td>0</td>\n",
       "    </tr>\n",
       "    <tr>\n",
       "      <th>4</th>\n",
       "      <td>1</td>\n",
       "      <td>0</td>\n",
       "      <td>0</td>\n",
       "      <td>0</td>\n",
       "      <td>0</td>\n",
       "      <td>0</td>\n",
       "      <td>0</td>\n",
       "      <td>1</td>\n",
       "      <td>1</td>\n",
       "      <td>0</td>\n",
       "      <td>...</td>\n",
       "      <td>0</td>\n",
       "      <td>0</td>\n",
       "      <td>0</td>\n",
       "      <td>0</td>\n",
       "      <td>0</td>\n",
       "      <td>0</td>\n",
       "      <td>0</td>\n",
       "      <td>0</td>\n",
       "      <td>0</td>\n",
       "      <td>0</td>\n",
       "    </tr>\n",
       "    <tr>\n",
       "      <th>5</th>\n",
       "      <td>0</td>\n",
       "      <td>0</td>\n",
       "      <td>0</td>\n",
       "      <td>0</td>\n",
       "      <td>0</td>\n",
       "      <td>1</td>\n",
       "      <td>0</td>\n",
       "      <td>0</td>\n",
       "      <td>0</td>\n",
       "      <td>0</td>\n",
       "      <td>...</td>\n",
       "      <td>1</td>\n",
       "      <td>1</td>\n",
       "      <td>1</td>\n",
       "      <td>0</td>\n",
       "      <td>0</td>\n",
       "      <td>0</td>\n",
       "      <td>1</td>\n",
       "      <td>0</td>\n",
       "      <td>0</td>\n",
       "      <td>0</td>\n",
       "    </tr>\n",
       "    <tr>\n",
       "      <th>6</th>\n",
       "      <td>0</td>\n",
       "      <td>1</td>\n",
       "      <td>0</td>\n",
       "      <td>0</td>\n",
       "      <td>0</td>\n",
       "      <td>0</td>\n",
       "      <td>0</td>\n",
       "      <td>0</td>\n",
       "      <td>0</td>\n",
       "      <td>0</td>\n",
       "      <td>...</td>\n",
       "      <td>0</td>\n",
       "      <td>0</td>\n",
       "      <td>0</td>\n",
       "      <td>0</td>\n",
       "      <td>0</td>\n",
       "      <td>0</td>\n",
       "      <td>0</td>\n",
       "      <td>0</td>\n",
       "      <td>0</td>\n",
       "      <td>0</td>\n",
       "    </tr>\n",
       "    <tr>\n",
       "      <th>7</th>\n",
       "      <td>0</td>\n",
       "      <td>0</td>\n",
       "      <td>0</td>\n",
       "      <td>0</td>\n",
       "      <td>0</td>\n",
       "      <td>0</td>\n",
       "      <td>0</td>\n",
       "      <td>1</td>\n",
       "      <td>0</td>\n",
       "      <td>0</td>\n",
       "      <td>...</td>\n",
       "      <td>1</td>\n",
       "      <td>0</td>\n",
       "      <td>0</td>\n",
       "      <td>0</td>\n",
       "      <td>0</td>\n",
       "      <td>0</td>\n",
       "      <td>0</td>\n",
       "      <td>0</td>\n",
       "      <td>0</td>\n",
       "      <td>0</td>\n",
       "    </tr>\n",
       "    <tr>\n",
       "      <th>8</th>\n",
       "      <td>0</td>\n",
       "      <td>0</td>\n",
       "      <td>0</td>\n",
       "      <td>0</td>\n",
       "      <td>0</td>\n",
       "      <td>0</td>\n",
       "      <td>0</td>\n",
       "      <td>0</td>\n",
       "      <td>0</td>\n",
       "      <td>1</td>\n",
       "      <td>...</td>\n",
       "      <td>0</td>\n",
       "      <td>0</td>\n",
       "      <td>0</td>\n",
       "      <td>0</td>\n",
       "      <td>0</td>\n",
       "      <td>0</td>\n",
       "      <td>0</td>\n",
       "      <td>0</td>\n",
       "      <td>0</td>\n",
       "      <td>0</td>\n",
       "    </tr>\n",
       "    <tr>\n",
       "      <th>9</th>\n",
       "      <td>0</td>\n",
       "      <td>0</td>\n",
       "      <td>0</td>\n",
       "      <td>0</td>\n",
       "      <td>0</td>\n",
       "      <td>0</td>\n",
       "      <td>0</td>\n",
       "      <td>0</td>\n",
       "      <td>0</td>\n",
       "      <td>0</td>\n",
       "      <td>...</td>\n",
       "      <td>1</td>\n",
       "      <td>0</td>\n",
       "      <td>1</td>\n",
       "      <td>1</td>\n",
       "      <td>0</td>\n",
       "      <td>1</td>\n",
       "      <td>0</td>\n",
       "      <td>1</td>\n",
       "      <td>0</td>\n",
       "      <td>0</td>\n",
       "    </tr>\n",
       "  </tbody>\n",
       "</table>\n",
       "<p>10 rows × 44 columns</p>\n",
       "</div>"
      ]
     },
     "execution_count": 47,
     "metadata": {},
     "output_type": "execute_result"
    }
   ],
   "execution_count": 47
  },
  {
   "metadata": {},
   "cell_type": "markdown",
   "source": "### TEXT PREPROCESSING",
   "id": "148e91e1fe89e5a9"
  },
  {
   "metadata": {
    "ExecuteTime": {
     "end_time": "2025-07-23T13:19:48.259231Z",
     "start_time": "2025-07-23T13:19:48.254420Z"
    }
   },
   "cell_type": "code",
   "source": [
    "# Import Libraries\n",
    "import nltk\n",
    "from nltk.corpus import stopwords"
   ],
   "id": "fd53aba00f205a12",
   "outputs": [],
   "execution_count": 48
  },
  {
   "metadata": {},
   "cell_type": "markdown",
   "source": "#### 1. STOPWORDS",
   "id": "987a82b84b184d50"
  },
  {
   "metadata": {
    "ExecuteTime": {
     "end_time": "2025-07-23T13:19:48.329309Z",
     "start_time": "2025-07-23T13:19:48.322989Z"
    }
   },
   "cell_type": "code",
   "source": [
    "nltk.download('stopwords')\n",
    "print(stopwords.words('english'))"
   ],
   "id": "8115f3112fa94895",
   "outputs": [
    {
     "name": "stdout",
     "output_type": "stream",
     "text": [
      "['a', 'about', 'above', 'after', 'again', 'against', 'ain', 'all', 'am', 'an', 'and', 'any', 'are', 'aren', \"aren't\", 'as', 'at', 'be', 'because', 'been', 'before', 'being', 'below', 'between', 'both', 'but', 'by', 'can', 'couldn', \"couldn't\", 'd', 'did', 'didn', \"didn't\", 'do', 'does', 'doesn', \"doesn't\", 'doing', 'don', \"don't\", 'down', 'during', 'each', 'few', 'for', 'from', 'further', 'had', 'hadn', \"hadn't\", 'has', 'hasn', \"hasn't\", 'have', 'haven', \"haven't\", 'having', 'he', \"he'd\", \"he'll\", 'her', 'here', 'hers', 'herself', \"he's\", 'him', 'himself', 'his', 'how', 'i', \"i'd\", 'if', \"i'll\", \"i'm\", 'in', 'into', 'is', 'isn', \"isn't\", 'it', \"it'd\", \"it'll\", \"it's\", 'its', 'itself', \"i've\", 'just', 'll', 'm', 'ma', 'me', 'mightn', \"mightn't\", 'more', 'most', 'mustn', \"mustn't\", 'my', 'myself', 'needn', \"needn't\", 'no', 'nor', 'not', 'now', 'o', 'of', 'off', 'on', 'once', 'only', 'or', 'other', 'our', 'ours', 'ourselves', 'out', 'over', 'own', 're', 's', 'same', 'shan', \"shan't\", 'she', \"she'd\", \"she'll\", \"she's\", 'should', 'shouldn', \"shouldn't\", \"should've\", 'so', 'some', 'such', 't', 'than', 'that', \"that'll\", 'the', 'their', 'theirs', 'them', 'themselves', 'then', 'there', 'these', 'they', \"they'd\", \"they'll\", \"they're\", \"they've\", 'this', 'those', 'through', 'to', 'too', 'under', 'until', 'up', 've', 'very', 'was', 'wasn', \"wasn't\", 'we', \"we'd\", \"we'll\", \"we're\", 'were', 'weren', \"weren't\", \"we've\", 'what', 'when', 'where', 'which', 'while', 'who', 'whom', 'why', 'will', 'with', 'won', \"won't\", 'wouldn', \"wouldn't\", 'y', 'you', \"you'd\", \"you'll\", 'your', \"you're\", 'yours', 'yourself', 'yourselves', \"you've\"]\n"
     ]
    },
    {
     "name": "stderr",
     "output_type": "stream",
     "text": [
      "[nltk_data] Downloading package stopwords to\n",
      "[nltk_data]     C:\\Users\\ChristineKakina\\AppData\\Roaming\\nltk_data...\n",
      "[nltk_data]   Package stopwords is already up-to-date!\n"
     ]
    }
   ],
   "execution_count": 49
  },
  {
   "metadata": {
    "ExecuteTime": {
     "end_time": "2025-07-23T13:19:48.523146Z",
     "start_time": "2025-07-23T13:19:48.517717Z"
    }
   },
   "cell_type": "code",
   "source": "print(len(stopwords.words('english')))",
   "id": "967f0375e471fd75",
   "outputs": [
    {
     "name": "stdout",
     "output_type": "stream",
     "text": [
      "198\n"
     ]
    }
   ],
   "execution_count": 50
  },
  {
   "metadata": {
    "ExecuteTime": {
     "end_time": "2025-07-23T13:19:48.659544Z",
     "start_time": "2025-07-23T13:19:48.654785Z"
    }
   },
   "cell_type": "code",
   "source": "stopWordList=stopwords.words('english')",
   "id": "6e8e580a78dd3d19",
   "outputs": [],
   "execution_count": 51
  },
  {
   "metadata": {},
   "cell_type": "markdown",
   "source": "#### 2. TOKENIZATION",
   "id": "12552c8e28eb14a6"
  },
  {
   "metadata": {
    "ExecuteTime": {
     "end_time": "2025-07-23T13:19:48.702188Z",
     "start_time": "2025-07-23T13:19:48.697848Z"
    }
   },
   "cell_type": "code",
   "source": "paragraph = \"\"\"Natural Language Processing (NLP) is a field of Artificial Intelligence that focuses on the interaction between computers and humans through language. It allows machines to read, understand, and derive meaning from human languages. NLP is used in applications like chatbots, translation, sentiment analysis, and more.\"\"\"\n",
   "id": "6a61f68f8ef56112",
   "outputs": [],
   "execution_count": 52
  },
  {
   "metadata": {
    "ExecuteTime": {
     "end_time": "2025-07-23T14:47:19.269317Z",
     "start_time": "2025-07-23T14:47:18.854543Z"
    }
   },
   "cell_type": "code",
   "source": [
    "nltk.download('punkt_tab')\n",
    "sentences=nltk.sent_tokenize(paragraph)"
   ],
   "id": "e718ebeda77ca9b5",
   "outputs": [
    {
     "name": "stderr",
     "output_type": "stream",
     "text": [
      "[nltk_data] Downloading package punkt_tab to\n",
      "[nltk_data]     C:\\Users\\ChristineKakina\\AppData\\Roaming\\nltk_data...\n",
      "[nltk_data]   Package punkt_tab is already up-to-date!\n"
     ]
    }
   ],
   "execution_count": 54
  },
  {
   "metadata": {
    "ExecuteTime": {
     "end_time": "2025-07-23T14:47:30.720931Z",
     "start_time": "2025-07-23T14:47:30.711859Z"
    }
   },
   "cell_type": "code",
   "source": [
    "for sentence in sentences:\n",
    "    print(sentence)"
   ],
   "id": "144e5af123f591c3",
   "outputs": [
    {
     "name": "stdout",
     "output_type": "stream",
     "text": [
      "Natural Language Processing (NLP) is a field of Artificial Intelligence that focuses on the interaction between computers and humans through language.\n",
      "It allows machines to read, understand, and derive meaning from human languages.\n",
      "NLP is used in applications like chatbots, translation, sentiment analysis, and more.\n"
     ]
    }
   ],
   "execution_count": 55
  }
 ],
 "metadata": {
  "kernelspec": {
   "display_name": "Python 3",
   "language": "python",
   "name": "python3"
  },
  "language_info": {
   "codemirror_mode": {
    "name": "ipython",
    "version": 2
   },
   "file_extension": ".py",
   "mimetype": "text/x-python",
   "name": "python",
   "nbconvert_exporter": "python",
   "pygments_lexer": "ipython2",
   "version": "2.7.6"
  }
 },
 "nbformat": 4,
 "nbformat_minor": 5
}
